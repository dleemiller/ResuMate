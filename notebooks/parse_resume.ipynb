{
 "cells": [
  {
   "cell_type": "code",
   "execution_count": null,
   "id": "4bc522aa-c5b0-4731-9584-500b7007b613",
   "metadata": {},
   "outputs": [],
   "source": [
    "import sys\n",
    "import os\n",
    "\n",
    "resumate_module_path = os.path.normpath(os.path.join(os.getcwd(), '..'))\n",
    "sys.path.insert(0, resumate_module_path)\n",
    "\n",
    "%load_ext dotenv\n",
    "%dotenv ../.env"
   ]
  },
  {
   "cell_type": "code",
   "execution_count": null,
   "id": "e89a20b0-f335-470a-b630-b3e64b5aa0ee",
   "metadata": {},
   "outputs": [],
   "source": [
    "from tasks import parse_resume"
   ]
  },
  {
   "cell_type": "code",
   "execution_count": null,
   "id": "13496e8b-b54d-4757-8647-80716812538c",
   "metadata": {},
   "outputs": [],
   "source": [
    "RESUME_FILEPATH = '<insert-your-filepath-here>'\n",
    "with open(RESUME_FILEPATH, 'r') as resume_file:\n",
    "    resume_contents = resume_file.read()"
   ]
  },
  {
   "cell_type": "code",
   "execution_count": null,
   "id": "e0f85478-c9fb-455f-96e5-f972d84db726",
   "metadata": {},
   "outputs": [],
   "source": [
    "resume = parse_resume.ParseResume.parse(resume_contents)"
   ]
  },
  {
   "cell_type": "code",
   "execution_count": null,
   "id": "cb7a81fd-8915-4e1f-9609-c9e874141bb7",
   "metadata": {},
   "outputs": [],
   "source": []
  }
 ],
 "metadata": {
  "kernelspec": {
   "display_name": "Python 3 (ipykernel)",
   "language": "python",
   "name": "python3"
  },
  "language_info": {
   "codemirror_mode": {
    "name": "ipython",
    "version": 3
   },
   "file_extension": ".py",
   "mimetype": "text/x-python",
   "name": "python",
   "nbconvert_exporter": "python",
   "pygments_lexer": "ipython3",
   "version": "3.11.5"
  }
 },
 "nbformat": 4,
 "nbformat_minor": 5
}
