{
 "cells": [
  {
   "cell_type": "code",
   "execution_count": 1,
   "id": "6cd26a58-1e3d-43b6-9f89-f50d986e1cf7",
   "metadata": {},
   "outputs": [],
   "source": [
    "import sys\n",
    "import os\n",
    "\n",
    "resumate_module_path = os.path.normpath(os.path.join(os.getcwd(), '..'))\n",
    "sys.path.insert(0, resumate_module_path)\n",
    "\n",
    "%load_ext dotenv\n",
    "%dotenv ../.env"
   ]
  },
  {
   "cell_type": "code",
   "execution_count": 2,
   "id": "127d2f6f-a7c9-4539-b304-64a3605c48ff",
   "metadata": {},
   "outputs": [],
   "source": [
    "from tasks import recruiter"
   ]
  },
  {
   "cell_type": "code",
   "execution_count": 3,
   "id": "d27cb353-029f-4194-80b4-2e616282fa3e",
   "metadata": {},
   "outputs": [],
   "source": [
    "RESUME_FILEPATH = '../examples/example_resume.txt'\n",
    "with open(RESUME_FILEPATH, 'r') as resume_file:\n",
    "    resume_contents = resume_file.read()"
   ]
  },
  {
   "cell_type": "code",
   "execution_count": 4,
   "id": "a6305c56-5be4-4c31-8e67-f1f27aa70340",
   "metadata": {},
   "outputs": [],
   "source": [
    "JOB_FILEPATH = '../examples/example_job.txt'\n",
    "with open(JOB_FILEPATH, 'r') as job_file:\n",
    "    job_contents = job_file.read()"
   ]
  },
  {
   "cell_type": "code",
   "execution_count": null,
   "id": "1b69b2c5-5479-49f4-848f-a2d9e52a9058",
   "metadata": {},
   "outputs": [
    {
     "name": "stdout",
     "output_type": "stream",
     "text": [
      "\n",
      "# Thought\n",
      "The candidate has a strong background in developing large-scale computational advertising and machine learning applications. They have experience with EMR/Spark, Sagemaker, and other AWS technologies. Their past projects include spearheading the development of a scalable distributed system for processing advertising data and implementing cutting-edge algorithms to enhance ad outcome measurement. They also have experience in real-time bidding optimization and ad allocation systems.\n",
      "\n",
      "# Next Action\n",
      "Ask the candidate about their experience in designing and implementing the adaptive ad allocation system mentioned in their resume.\n",
      "\n",
      "# Reasoning\n",
      "This will elucidate the candidate's ability to design and implement innovative solutions for optimizing ad impressions allocation, which is a key responsibility of the Machine Learning Engineer II role.\n",
      "\n",
      "# Message to candidate\n",
      "Can you please provide more details about your experience in designing and implementing the adaptive ad allocation system? What were the main challenges you faced and what were the outcomes of the project?\n",
      "        \n"
     ]
    }
   ],
   "source": [
    "recruiter.Recruiter.run(job=job_contents, resume=resume_contents)"
   ]
  },
  {
   "cell_type": "code",
   "execution_count": null,
   "id": "9f4e5e39-7aee-4485-8a59-e4a4c75fbc21",
   "metadata": {},
   "outputs": [],
   "source": []
  }
 ],
 "metadata": {
  "kernelspec": {
   "display_name": "Python 3 (ipykernel)",
   "language": "python",
   "name": "python3"
  },
  "language_info": {
   "codemirror_mode": {
    "name": "ipython",
    "version": 3
   },
   "file_extension": ".py",
   "mimetype": "text/x-python",
   "name": "python",
   "nbconvert_exporter": "python",
   "pygments_lexer": "ipython3",
   "version": "3.11.5"
  }
 },
 "nbformat": 4,
 "nbformat_minor": 5
}
