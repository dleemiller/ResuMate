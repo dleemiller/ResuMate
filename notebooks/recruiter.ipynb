{
 "cells": [
  {
   "cell_type": "code",
   "execution_count": null,
   "id": "6cd26a58-1e3d-43b6-9f89-f50d986e1cf7",
   "metadata": {},
   "outputs": [],
   "source": [
    "import sys\n",
    "import os\n",
    "\n",
    "resumate_module_path = os.path.normpath(os.path.join(os.getcwd(), '..'))\n",
    "sys.path.insert(0, resumate_module_path)\n",
    "\n",
    "%load_ext dotenv\n",
    "%dotenv ../.env"
   ]
  },
  {
   "cell_type": "code",
   "execution_count": null,
   "id": "127d2f6f-a7c9-4539-b304-64a3605c48ff",
   "metadata": {},
   "outputs": [],
   "source": [
    "from tasks import recruiter"
   ]
  },
  {
   "cell_type": "code",
   "execution_count": null,
   "id": "d27cb353-029f-4194-80b4-2e616282fa3e",
   "metadata": {},
   "outputs": [],
   "source": [
    "RESUME_FILEPATH = '../examples/example_resume.txt'\n",
    "with open(RESUME_FILEPATH, 'r') as resume_file:\n",
    "    resume_contents = resume_file.read()"
   ]
  },
  {
   "cell_type": "code",
   "execution_count": null,
   "id": "a6305c56-5be4-4c31-8e67-f1f27aa70340",
   "metadata": {},
   "outputs": [],
   "source": [
    "JOB_FILEPATH = '../examples/example_job.txt'\n",
    "with open(JOB_FILEPATH, 'r') as job_file:\n",
    "    job_contents = job_file.read()"
   ]
  },
  {
   "cell_type": "code",
   "execution_count": null,
   "id": "1b69b2c5-5479-49f4-848f-a2d9e52a9058",
   "metadata": {},
   "outputs": [],
   "source": [
    "recommendation = recruiter.Recruiter.run(job=job_contents, resume=resume_contents)"
   ]
  },
  {
   "cell_type": "code",
   "execution_count": null,
   "id": "9f4e5e39-7aee-4485-8a59-e4a4c75fbc21",
   "metadata": {},
   "outputs": [],
   "source": []
  }
 ],
 "metadata": {
  "kernelspec": {
   "display_name": "Python 3 (ipykernel)",
   "language": "python",
   "name": "python3"
  },
  "language_info": {
   "codemirror_mode": {
    "name": "ipython",
    "version": 3
   },
   "file_extension": ".py",
   "mimetype": "text/x-python",
   "name": "python",
   "nbconvert_exporter": "python",
   "pygments_lexer": "ipython3",
   "version": "3.11.5"
  }
 },
 "nbformat": 4,
 "nbformat_minor": 5
}
